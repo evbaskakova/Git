{
  "nbformat": 4,
  "nbformat_minor": 0,
  "metadata": {
    "colab": {
      "provenance": [],
      "authorship_tag": "ABX9TyOJhG/C5OPyLq5PUnLbbmhj",
      "include_colab_link": true
    },
    "kernelspec": {
      "name": "python3",
      "display_name": "Python 3"
    },
    "language_info": {
      "name": "python"
    }
  },
  "cells": [
    {
      "cell_type": "markdown",
      "metadata": {
        "id": "view-in-github",
        "colab_type": "text"
      },
      "source": [
        "<a href=\"https://colab.research.google.com/github/evbaskakova/Git/blob/main/homework%209.ipynb\" target=\"_parent\"><img src=\"https://colab.research.google.com/assets/colab-badge.svg\" alt=\"Open In Colab\"/></a>"
      ]
    },
    {
      "cell_type": "code",
      "source": [
        "import pandas as pd\n",
        "\n",
        "df = pd.read_csv('/content/sample_data/california_housing_train.csv')"
      ],
      "metadata": {
        "id": "9_A_6JcN2-N5"
      },
      "execution_count": 4,
      "outputs": []
    },
    {
      "cell_type": "code",
      "execution_count": 15,
      "metadata": {
        "colab": {
          "base_uri": "https://localhost:8080/"
        },
        "id": "sUEDdtkO2Iat",
        "outputId": "1be58ba5-b085-4a0b-9fdf-b26e248cb59c"
      },
      "outputs": [
        {
          "output_type": "execute_result",
          "data": {
            "text/plain": [
              "206683.83635227982"
            ]
          },
          "metadata": {},
          "execution_count": 15
        }
      ],
      "source": [
        "#Работать с файлом california_housing_train.csv, который находится в папке sample_data. \n",
        "#Определить среднюю стоимость дома, где кол-во людей от 0 до 500 (population)\n",
        "mean_n = df[(df['population'] > 0) & (df['population'] < 500)]\n",
        "mean_n.mean().median_house_value"
      ]
    },
    {
      "cell_type": "code",
      "source": [
        "#Узнать какая максимальная households в зоне минимального значения population\n",
        "min_n = df.population.min()\n",
        "df[df['population'] == min_n].households.max()"
      ],
      "metadata": {
        "colab": {
          "base_uri": "https://localhost:8080/"
        },
        "id": "BYvjACjS2QrO",
        "outputId": "eb001be4-4a67-4e6e-d2d6-429da4f1f388"
      },
      "execution_count": 5,
      "outputs": [
        {
          "output_type": "execute_result",
          "data": {
            "text/plain": [
              "4.0"
            ]
          },
          "metadata": {},
          "execution_count": 5
        }
      ]
    }
  ]
}